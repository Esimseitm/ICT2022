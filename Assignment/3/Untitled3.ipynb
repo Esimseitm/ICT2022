{
 "cells": [
  {
   "cell_type": "code",
   "execution_count": 8,
   "id": "869f82d6",
   "metadata": {},
   "outputs": [
    {
     "name": "stdout",
     "output_type": "stream",
     "text": [
      "Pembroke Welsh Corgi\n",
      "{'weight': {'imperial': '25 - 30', 'metric': '11 - 14'}, 'height': {'imperial': '10 - 12', 'metric': '25 - 30'}, 'id': 184, 'name': 'Pembroke Welsh Corgi', 'bred_for': 'Driving stock to market in northern Wales', 'breed_group': 'Herding', 'life_span': '12 - 14 years', 'temperament': 'Tenacious, Outgoing, Friendly, Bold, Playful, Protective', 'reference_image_id': 'rJ6iQeqEm', 'image': {'id': 'rJ6iQeqEm', 'width': 1280, 'height': 720, 'url': 'https://cdn2.thedogapi.com/images/rJ6iQeqEm.jpg'}}\n"
     ]
    }
   ],
   "source": [
    "import requests\n",
    "URL = \"https://api.thedogapi.com/v1/breeds\"\n",
    "resp = requests.get(URL)\n",
    "resp_json = resp.json()\n",
    "if input1 == \"all\":\n",
    "    print(resp_json)\n",
    "else:\n",
    "    for i in resp_json:\n",
    "        if i['name'] == input1:\n",
    "            print(i)\n",
    "            break\n"
   ]
  },
  {
   "cell_type": "code",
   "execution_count": null,
   "id": "ea43e0ff",
   "metadata": {},
   "outputs": [],
   "source": []
  },
  {
   "cell_type": "code",
   "execution_count": null,
   "id": "5f8121e8",
   "metadata": {},
   "outputs": [],
   "source": []
  }
 ],
 "metadata": {
  "kernelspec": {
   "display_name": "Python 3 (ipykernel)",
   "language": "python",
   "name": "python3"
  },
  "language_info": {
   "codemirror_mode": {
    "name": "ipython",
    "version": 3
   },
   "file_extension": ".py",
   "mimetype": "text/x-python",
   "name": "python",
   "nbconvert_exporter": "python",
   "pygments_lexer": "ipython3",
   "version": "3.9.12"
  }
 },
 "nbformat": 4,
 "nbformat_minor": 5
}
