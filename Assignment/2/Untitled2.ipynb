{
 "cells": [
  {
   "cell_type": "code",
   "execution_count": 1,
   "id": "a75fc62c",
   "metadata": {},
   "outputs": [],
   "source": [
    "import pandas as pd\n"
   ]
  },
  {
   "cell_type": "code",
   "execution_count": 3,
   "id": "f783e5c6",
   "metadata": {},
   "outputs": [
    {
     "name": "stdout",
     "output_type": "stream",
     "text": [
      "       Name Surname  Age\n",
      "0      Brad    Pitt   58\n",
      "1  Angelina   Jolie   47\n",
      "2       Tom  Cruise   60\n"
     ]
    }
   ],
   "source": [
    "df = pd.DataFrame({'Name' : ['Brad', 'Angelina', 'Tom'], \n",
    "                   'Surname' : ['Pitt', 'Jolie', 'Cruise'],\n",
    "                  'Age' : [58, 47, 60]})\n",
    "print(df)"
   ]
  },
  {
   "cell_type": "code",
   "execution_count": null,
   "id": "03f7305f",
   "metadata": {},
   "outputs": [],
   "source": []
  }
 ],
 "metadata": {
  "kernelspec": {
   "display_name": "Python 3 (ipykernel)",
   "language": "python",
   "name": "python3"
  },
  "language_info": {
   "codemirror_mode": {
    "name": "ipython",
    "version": 3
   },
   "file_extension": ".py",
   "mimetype": "text/x-python",
   "name": "python",
   "nbconvert_exporter": "python",
   "pygments_lexer": "ipython3",
   "version": "3.9.12"
  }
 },
 "nbformat": 4,
 "nbformat_minor": 5
}
