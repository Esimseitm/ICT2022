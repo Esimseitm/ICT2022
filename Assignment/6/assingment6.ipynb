{
 "cells": [
  {
   "cell_type": "code",
   "execution_count": 17,
   "id": "ea6a8108",
   "metadata": {},
   "outputs": [
    {
     "name": "stdout",
     "output_type": "stream",
     "text": [
      "[1 2 3 4]\n",
      "[5 6 7 8]\n"
     ]
    }
   ],
   "source": [
    "# assinment 6\n",
    "import numpy as np\n",
    "input1 = [1,2,3,4]\n",
    "input2 = [5,6,7,8]\n",
    "array = np.array(input1)\n",
    "print(array)\n",
    "array2 = np.array(input2)\n",
    "print(array2)"
   ]
  },
  {
   "cell_type": "code",
   "execution_count": 25,
   "id": "1deda623",
   "metadata": {},
   "outputs": [
    {
     "name": "stdout",
     "output_type": "stream",
     "text": [
      "[1, 5, 2, 6, 3, 7, 4, 8]\n"
     ]
    }
   ],
   "source": [
    "input3 = []\n",
    "for x, y in zip(input1, input2):\n",
    "    input3 += [x,y]\n",
    "print(input3)\n",
    "\n",
    "array4 = np.array(input3)\n",
    "array4 = array4.reshape((-1,2))\n",
    "print(array4)"
   ]
  },
  {
   "cell_type": "code",
   "execution_count": 26,
   "id": "fa324eae",
   "metadata": {},
   "outputs": [
    {
     "name": "stdout",
     "output_type": "stream",
     "text": [
      "[[1 5]\n",
      " [2 6]\n",
      " [3 7]\n",
      " [4 8]]\n"
     ]
    }
   ],
   "source": [
    "array4 = np.array(input3)\n",
    "array4 = array4.reshape((-1,2))\n",
    "print(array4)"
   ]
  },
  {
   "cell_type": "code",
   "execution_count": null,
   "id": "e88d9961",
   "metadata": {},
   "outputs": [],
   "source": []
  }
 ],
 "metadata": {
  "kernelspec": {
   "display_name": "Python 3 (ipykernel)",
   "language": "python",
   "name": "python3"
  },
  "language_info": {
   "codemirror_mode": {
    "name": "ipython",
    "version": 3
   },
   "file_extension": ".py",
   "mimetype": "text/x-python",
   "name": "python",
   "nbconvert_exporter": "python",
   "pygments_lexer": "ipython3",
   "version": "3.9.12"
  }
 },
 "nbformat": 4,
 "nbformat_minor": 5
}
