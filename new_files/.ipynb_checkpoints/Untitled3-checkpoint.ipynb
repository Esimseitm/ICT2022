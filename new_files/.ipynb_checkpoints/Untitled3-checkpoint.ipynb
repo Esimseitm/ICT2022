{
 "cells": [
  {
   "cell_type": "code",
   "execution_count": 3,
   "id": "9b9f53ba",
   "metadata": {},
   "outputs": [
    {
     "name": "stdout",
     "output_type": "stream",
     "text": [
      "[1 2 3 4]\n"
     ]
    }
   ],
   "source": [
    "#LEcture 9 Numpy\n",
    "import numpy as np\n",
    "array = np.array([1,2,3,4])\n",
    "print(array)"
   ]
  },
  {
   "cell_type": "code",
   "execution_count": 4,
   "id": "4ac0f142",
   "metadata": {},
   "outputs": [
    {
     "name": "stdout",
     "output_type": "stream",
     "text": [
      "[[1 2 3]\n",
      " [4 5 6]]\n"
     ]
    }
   ],
   "source": [
    "array_2d = np.array([[1,2,3], [4,5,6]])\n",
    "print(array_2d)"
   ]
  },
  {
   "cell_type": "code",
   "execution_count": 5,
   "id": "3f50950d",
   "metadata": {},
   "outputs": [
    {
     "name": "stdout",
     "output_type": "stream",
     "text": [
      "2\n"
     ]
    }
   ],
   "source": [
    "print(array_2d[0][1])"
   ]
  },
  {
   "cell_type": "code",
   "execution_count": 6,
   "id": "6fd10543",
   "metadata": {},
   "outputs": [
    {
     "name": "stdout",
     "output_type": "stream",
     "text": [
      "[55, 2, 3]\n",
      "[1, 2, 3]\n"
     ]
    }
   ],
   "source": [
    "list1 = [1,2,3]\n",
    "list2 = list1.copy()\n",
    "list2[0] = 55\n",
    "print(list2)\n",
    "print(list1)"
   ]
  },
  {
   "cell_type": "code",
   "execution_count": 7,
   "id": "3f0b6f3e",
   "metadata": {},
   "outputs": [
    {
     "name": "stdout",
     "output_type": "stream",
     "text": [
      "[[ 1 55  3]\n",
      " [ 4  5  6]]\n",
      "[[ 1 55  3]\n",
      " [ 4  5  6]]\n",
      "[[  1 100   3]\n",
      " [  4   5   6]]\n"
     ]
    }
   ],
   "source": [
    "array_2d = np.array([[1,2,3],[4,5,6]])\n",
    "array_2d2 = array_2d.view()\n",
    "array_2d3 = array_2d.copy()\n",
    "array_2d2[0][1] = 55\n",
    "array_2d3[0][1] = 100\n",
    "print(array_2d)\n",
    "print(array_2d2)\n",
    "print(array_2d3)"
   ]
  },
  {
   "cell_type": "code",
   "execution_count": 8,
   "id": "65d1086b",
   "metadata": {},
   "outputs": [
    {
     "name": "stdout",
     "output_type": "stream",
     "text": [
      "(4,)\n"
     ]
    }
   ],
   "source": [
    "print(array.shape)"
   ]
  },
  {
   "cell_type": "code",
   "execution_count": 9,
   "id": "b3f32156",
   "metadata": {},
   "outputs": [
    {
     "name": "stdout",
     "output_type": "stream",
     "text": [
      "[1 2 3 4 5 6 7 8 9]\n",
      "[[1 2 3]\n",
      " [4 5 6]\n",
      " [7 8 9]]\n",
      "[1 2 3 4 5 6]\n",
      "[[1 2]\n",
      " [3 4]\n",
      " [5 6]]\n",
      "[[1 2 3]\n",
      " [4 5 6]]\n",
      "[[1]\n",
      " [2]\n",
      " [3]\n",
      " [4]\n",
      " [5]\n",
      " [6]]\n"
     ]
    }
   ],
   "source": [
    "#reshape your array from 1D to 2D\n",
    "array = np.array([1,2,3,4,5,6,7,8,9])\n",
    "print(array)\n",
    "array = array.reshape((3,3))\n",
    "print(array)\n",
    "#reshape your array from 1D to 2D\n",
    "array = np.array([1,2,3,4,5,6])\n",
    "print(array)\n",
    "array = array.reshape((3,2))\n",
    "print(array)\n",
    "array = array.reshape((2,3))\n",
    "print(array)\n",
    "array = array.reshape((6,1))\n",
    "print(array)"
   ]
  },
  {
   "cell_type": "code",
   "execution_count": 10,
   "id": "28a5d62a",
   "metadata": {},
   "outputs": [
    {
     "name": "stdout",
     "output_type": "stream",
     "text": [
      "[1 2 3 4 5 6 7 8]\n",
      "[[1 2]\n",
      " [3 4]\n",
      " [5 6]\n",
      " [7 8]]\n",
      "[[1]\n",
      " [2]\n",
      " [3]\n",
      " [4]\n",
      " [5]\n",
      " [6]\n",
      " [7]\n",
      " [8]]\n"
     ]
    }
   ],
   "source": [
    "array = np.array([1,2,3,4,5,6,7,8])\n",
    "print(array)\n",
    "array = array.reshape((-1, 2))\n",
    "print(array)\n",
    "array = array.reshape((-1, 1))\n",
    "print(array)"
   ]
  },
  {
   "cell_type": "code",
   "execution_count": 11,
   "id": "af64e9f5",
   "metadata": {},
   "outputs": [
    {
     "name": "stdout",
     "output_type": "stream",
     "text": [
      "[3 4 5]\n",
      "[1 4 9]\n"
     ]
    }
   ],
   "source": [
    "lis = [1, 2, 3]\n",
    "arr = np.array(lis)\n",
    "# print(lis +2)\n",
    "print(arr +2 )\n",
    "print(arr * arr )"
   ]
  },
  {
   "cell_type": "code",
   "execution_count": 12,
   "id": "33cd7eca",
   "metadata": {},
   "outputs": [
    {
     "name": "stdout",
     "output_type": "stream",
     "text": [
      "[[ 1  5]\n",
      " [ 9 31]\n",
      " [45 78]]\n",
      "[[ 1  5]\n",
      " [ 9 31]\n",
      " [45 78]]\n",
      "[[ 1  5]\n",
      " [ 9 31]\n",
      " [45 78]]\n"
     ]
    }
   ],
   "source": [
    "#Change this array [1,5,9,31,45,78]\n",
    "#into this one:\n",
    "#[[1 5]\n",
    "#[9 31]\n",
    "#[45 78]]\n",
    "#It should be a copy not a view\n",
    "\n",
    "arr = np.array([1,5,9,31,45,78])\n",
    "print(arr.reshape((3,2)))\n",
    "print(arr.reshape((-1,2)))\n",
    "print(arr.reshape((3,-1)))"
   ]
  },
  {
   "cell_type": "code",
   "execution_count": 15,
   "id": "6c41c0d3",
   "metadata": {},
   "outputs": [
    {
     "name": "stdout",
     "output_type": "stream",
     "text": [
      "[1 2 3 4 5 6 7 8]\n",
      "[[1 2]\n",
      " [3 4]\n",
      " [5 6]\n",
      " [7 8]]\n"
     ]
    }
   ],
   "source": [
    "#PRACTICE 9 практика был ексел файл\n",
    "array = [1,2,3,4]\n",
    "array2 = [5,6,7,8]\n",
    "array = np.array(array)\n",
    "array2 = np.array(array2)\n",
    "array3 = np.hstack([array , array2])\n",
    "print(array3)\n",
    "array3 = array3.reshape((-1, 2))\n",
    "print(array3)"
   ]
  },
  {
   "cell_type": "code",
   "execution_count": null,
   "id": "fa1dd909",
   "metadata": {},
   "outputs": [],
   "source": []
  }
 ],
 "metadata": {
  "kernelspec": {
   "display_name": "Python 3 (ipykernel)",
   "language": "python",
   "name": "python3"
  },
  "language_info": {
   "codemirror_mode": {
    "name": "ipython",
    "version": 3
   },
   "file_extension": ".py",
   "mimetype": "text/x-python",
   "name": "python",
   "nbconvert_exporter": "python",
   "pygments_lexer": "ipython3",
   "version": "3.9.12"
  }
 },
 "nbformat": 4,
 "nbformat_minor": 5
}
