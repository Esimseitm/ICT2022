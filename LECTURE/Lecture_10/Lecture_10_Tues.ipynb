{
 "cells": [
  {
   "cell_type": "markdown",
   "metadata": {},
   "source": [
    "# Correction of practice 9"
   ]
  },
  {
   "cell_type": "code",
   "execution_count": null,
   "metadata": {},
   "outputs": [],
   "source": [
    "#See the excel file"
   ]
  },
  {
   "cell_type": "markdown",
   "metadata": {},
   "source": [
    "# Lecture 10: Machine Learning II"
   ]
  },
  {
   "cell_type": "markdown",
   "metadata": {},
   "source": [
    "## Installation of packages"
   ]
  },
  {
   "cell_type": "code",
   "execution_count": null,
   "metadata": {
    "scrolled": true
   },
   "outputs": [],
   "source": [
    "#Install the package numpy and scikit-learn"
   ]
  },
  {
   "cell_type": "code",
   "execution_count": 1,
   "metadata": {},
   "outputs": [
    {
     "name": "stdout",
     "output_type": "stream",
     "text": [
      "Requirement already satisfied: numpy in c:\\users\\chard\\anaconda3\\lib\\site-packages (1.23.3)\n",
      "Note: you may need to restart the kernel to use updated packages.\n"
     ]
    }
   ],
   "source": [
    "pip install numpy"
   ]
  },
  {
   "cell_type": "code",
   "execution_count": 2,
   "metadata": {},
   "outputs": [
    {
     "name": "stdout",
     "output_type": "stream",
     "text": [
      "Requirement already satisfied: scikit-learn in c:\\users\\chard\\anaconda3\\lib\\site-packages (0.23.1)Note: you may need to restart the kernel to use updated packages.\n",
      "Requirement already satisfied: scipy>=0.19.1 in c:\\users\\chard\\anaconda3\\lib\\site-packages (from scikit-learn) (1.5.0)\n",
      "Requirement already satisfied: threadpoolctl>=2.0.0 in c:\\users\\chard\\anaconda3\\lib\\site-packages (from scikit-learn) (2.1.0)\n",
      "Requirement already satisfied: joblib>=0.11 in c:\\users\\chard\\anaconda3\\lib\\site-packages (from scikit-learn) (0.16.0)\n",
      "Requirement already satisfied: numpy>=1.13.3 in c:\\users\\chard\\anaconda3\\lib\\site-packages (from scikit-learn) (1.23.3)\n",
      "\n"
     ]
    }
   ],
   "source": [
    "pip install scikit-learn"
   ]
  },
  {
   "cell_type": "code",
   "execution_count": 3,
   "metadata": {},
   "outputs": [],
   "source": [
    "#import the packages\n",
    "import numpy as np\n",
    "import sklearn.linear_model as skmod"
   ]
  },
  {
   "cell_type": "markdown",
   "metadata": {},
   "source": [
    "## Reminder of numpy"
   ]
  },
  {
   "cell_type": "code",
   "execution_count": 5,
   "metadata": {},
   "outputs": [],
   "source": [
    "#Our data: the goats and the altitude\n",
    "alt = [3.25, 0.816, 4.376, 1.314, 3.982, 2.957, 2.482, 3.7]\n",
    "n_goats = [21, 22, 13, 25, 17, 23, 23, 27]"
   ]
  },
  {
   "cell_type": "code",
   "execution_count": 8,
   "metadata": {},
   "outputs": [
    {
     "name": "stdout",
     "output_type": "stream",
     "text": [
      "[[3.25 ]\n",
      " [0.816]\n",
      " [4.376]\n",
      " [1.314]\n",
      " [3.982]\n",
      " [2.957]\n",
      " [2.482]\n",
      " [3.7  ]]\n",
      "[[21]\n",
      " [22]\n",
      " [13]\n",
      " [25]\n",
      " [17]\n",
      " [23]\n",
      " [23]\n",
      " [27]]\n"
     ]
    }
   ],
   "source": [
    "#Reorder your arrays\n",
    "arr_x = np.array(alt)\n",
    "arr_x = arr_x.reshape(-1,1)\n",
    "print(arr_x)\n",
    "arr_y = np.array(n_goats)\n",
    "arr_y = arr_y.reshape(-1,1)\n",
    "print(arr_y)"
   ]
  },
  {
   "cell_type": "markdown",
   "metadata": {},
   "source": [
    "## The linear regression"
   ]
  },
  {
   "cell_type": "code",
   "execution_count": 9,
   "metadata": {},
   "outputs": [
    {
     "data": {
      "text/plain": [
       "<matplotlib.collections.PathCollection at 0x1d88bb1fbb0>"
      ]
     },
     "execution_count": 9,
     "metadata": {},
     "output_type": "execute_result"
    },
    {
     "data": {
      "image/png": "[encoded data removed]",
      "text/plain": [
       "<Figure size 432x288 with 1 Axes>"
      ]
     },
     "metadata": {
      "needs_background": "light"
     },
     "output_type": "display_data"
    }
   ],
   "source": [
    "#Plot your data first\n",
    "import matplotlib.pyplot as plt\n",
    "plt.scatter(arr_x, arr_y)"
   ]
  },
  {
   "cell_type": "code",
   "execution_count": 10,
   "metadata": {},
   "outputs": [],
   "source": [
    "#Create a linear regression model: LinearRegression()\n",
    "model = skmod.LinearRegression()"
   ]
  },
  {
   "cell_type": "code",
   "execution_count": null,
   "metadata": {},
   "outputs": [],
   "source": [
    "#some parameters than you can change:\n",
    "#fit_intercept (consider b=0 if False, default is True)"
   ]
  },
  {
   "cell_type": "code",
   "execution_count": 11,
   "metadata": {},
   "outputs": [],
   "source": [
    "#Train your model\n",
    "model_trained = model.fit(arr_x, arr_y)"
   ]
  },
  {
   "cell_type": "code",
   "execution_count": 15,
   "metadata": {
    "scrolled": false
   },
   "outputs": [
    {
     "name": "stdout",
     "output_type": "stream",
     "text": [
      "[[-1.8288764]]\n",
      "[26.60490068]\n",
      "0.266272309411421\n"
     ]
    }
   ],
   "source": [
    "#get the result: the intercept (b)(.intercept_), \n",
    "#the coeff (w1)(.coef_) and the R2 (.score(x, y))\n",
    "print(model_trained.coef_) #w1\n",
    "print(model_trained.intercept_)#b\n",
    "#equation of my model: y'=-1.829*x + 26.60\n",
    "print(model_trained.score(arr_x, arr_y))"
   ]
  },
  {
   "cell_type": "code",
   "execution_count": 16,
   "metadata": {},
   "outputs": [
    {
     "data": {
      "text/plain": [
       "[<matplotlib.lines.Line2D at 0x1d88ec757f0>]"
      ]
     },
     "execution_count": 16,
     "metadata": {},
     "output_type": "execute_result"
    },
    {
     "data": {
      "image/png": "[encoded data removed]",
      "text/plain": [
       "<Figure size 432x288 with 1 Axes>"
      ]
     },
     "metadata": {
      "needs_background": "light"
     },
     "output_type": "display_data"
    }
   ],
   "source": [
    "#draw your model on the graph\n",
    "plt.scatter(arr_x, arr_y)\n",
    "plt.plot([0,5], [-1.829*0+ 26.60, -1.829*5+ 26.60])"
   ]
  },
  {
   "cell_type": "code",
   "execution_count": 19,
   "metadata": {},
   "outputs": [
    {
     "name": "stdout",
     "output_type": "stream",
     "text": [
      "[[1]\n",
      " [2]\n",
      " [3]]\n",
      "[[24.77602428]\n",
      " [22.94714788]\n",
      " [21.11827148]]\n"
     ]
    }
   ],
   "source": [
    "#Now use your model to predict data (.predict(x))\n",
    "x_predict = np.array([[1], [2], [3]])\n",
    "print(x_predict)\n",
    "print(model.predict(x_predict))"
   ]
  },
  {
   "cell_type": "code",
   "execution_count": 20,
   "metadata": {},
   "outputs": [
    {
     "name": "stdout",
     "output_type": "stream",
     "text": [
      "[[24.77602428]]\n",
      "[[22.94714788]]\n",
      "[[21.11827148]]\n"
     ]
    }
   ],
   "source": [
    "#Predict the result without predict but with intercept and coeff\n",
    "print(model.coef_*1+ model.intercept_)\n",
    "print(model.coef_*2+ model.intercept_)\n",
    "print(model.coef_*3+ model.intercept_)"
   ]
  },
  {
   "cell_type": "code",
   "execution_count": null,
   "metadata": {},
   "outputs": [],
   "source": [
    "#YOUR TURN (15 minutes)\n",
    "#Use the folowwing data to create a linear regression model and train it:\n",
    "# feature 1 | Label\n",
    "#--------------------\n",
    "#   25      |   80\n",
    "#   100     |   254\n",
    "#   30      |   152\n",
    "#   5       |   4\n",
    "#   85      |   271\n",
    "\n",
    "#The coeff use to preduce data was 2,56 and the intercept was 23\n",
    "#How close are you (How high is the score)?\n",
    "#Draw the graph of the datas and your prediction"
   ]
  },
  {
   "cell_type": "code",
   "execution_count": 25,
   "metadata": {},
   "outputs": [
    {
     "name": "stdout",
     "output_type": "stream",
     "text": [
      "[[2.6183161]]\n",
      "[23.90251108]\n",
      "0.8985431805527473\n"
     ]
    },
    {
     "data": {
      "text/plain": [
       "[<matplotlib.lines.Line2D at 0x1d88f3c51c0>]"
      ]
     },
     "execution_count": 25,
     "metadata": {},
     "output_type": "execute_result"
    },
    {
     "data": {
      "image/png": "[encoded data removed]",
      "text/plain": [
       "<Figure size 432x288 with 1 Axes>"
      ]
     },
     "metadata": {
      "needs_background": "light"
     },
     "output_type": "display_data"
    }
   ],
   "source": [
    "arr_x = np.array([[25], [100], [30], [5], [85]])\n",
    "arr_y = np.array([[80], [254], [152], [4], [271]])\n",
    "model = skmod.LinearRegression()\n",
    "model = model.fit(arr_x, arr_y)\n",
    "print(model.coef_)\n",
    "print(model.intercept_)\n",
    "print(model.score(arr_x, arr_y))\n",
    "plt.scatter(arr_x, arr_y)\n",
    "plt.plot([0, 100], model.predict(np.array([[0], [100]])))"
   ]
  },
  {
   "cell_type": "markdown",
   "metadata": {},
   "source": [
    "## For mutiple dimension\n"
   ]
  },
  {
   "cell_type": "code",
   "execution_count": 26,
   "metadata": {},
   "outputs": [],
   "source": [
    "#Our datas: the students work\n",
    "x1 = [9, 10, 16, 22, 17, 7, 10, 24, 15]\n",
    "x2 = [14, 18, 1, 22, 6, 12, 4, 28, 22]\n",
    "y = [42.8, 48.8, 36.8, 81.1, 44.8, 32.4, 28.8, 100, 73.1]"
   ]
  },
  {
   "cell_type": "code",
   "execution_count": 27,
   "metadata": {},
   "outputs": [
    {
     "data": {
      "text/plain": [
       "<matplotlib.collections.PathCollection at 0x1d88f423310>"
      ]
     },
     "execution_count": 27,
     "metadata": {},
     "output_type": "execute_result"
    },
    {
     "data": {
      "image/png": "[encoded data removed]",
      "text/plain": [
       "<Figure size 432x288 with 1 Axes>"
      ]
     },
     "metadata": {
      "needs_background": "light"
     },
     "output_type": "display_data"
    }
   ],
   "source": [
    "#Draw the data in 2d with colors\n",
    "plt.scatter(x1, x2, c = y, cmap = 'Reds')"
   ]
  },
  {
   "cell_type": "code",
   "execution_count": 28,
   "metadata": {},
   "outputs": [
    {
     "data": {
      "text/plain": [
       "<mpl_toolkits.mplot3d.art3d.Path3DCollection at 0x1d88f490dc0>"
      ]
     },
     "execution_count": 28,
     "metadata": {},
     "output_type": "execute_result"
    },
    {
     "data": {
      "image/png": "[encoded data removed]",
      "text/plain": [
       "<Figure size 432x288 with 1 Axes>"
      ]
     },
     "metadata": {
      "needs_background": "light"
     },
     "output_type": "display_data"
    }
   ],
   "source": [
    "#Draw in 3D\n",
    "ax = plt.subplot(projection='3d')\n",
    "ax.scatter(x1, x2, y)"
   ]
  },
  {
   "cell_type": "code",
   "execution_count": 31,
   "metadata": {},
   "outputs": [
    {
     "name": "stdout",
     "output_type": "stream",
     "text": [
      "[[ 9 14]\n",
      " [10 18]\n",
      " [16  1]\n",
      " [22 22]\n",
      " [17  6]\n",
      " [ 7 12]\n",
      " [10  4]\n",
      " [24 28]\n",
      " [15 22]]\n"
     ]
    }
   ],
   "source": [
    "#Transform our data for scikit-learn\n",
    "x1 = np.array(x1).reshape(-1,1)\n",
    "x2 = np.array(x2).reshape(-1,1)\n",
    "y = np.array(y).reshape(-1,1)\n",
    "x = np.hstack([x1, x2])\n",
    "print(x)"
   ]
  },
  {
   "cell_type": "code",
   "execution_count": 32,
   "metadata": {},
   "outputs": [],
   "source": [
    "#create and train the model\n",
    "model = skmod.LinearRegression()\n",
    "model = model.fit(x,y)"
   ]
  },
  {
   "cell_type": "code",
   "execution_count": 33,
   "metadata": {},
   "outputs": [
    {
     "name": "stdout",
     "output_type": "stream",
     "text": [
      "[[2.21268076 1.68913745]]\n",
      "[-1.50766172]\n"
     ]
    }
   ],
   "source": [
    "#get the result and write the equation\n",
    "print(model.coef_)\n",
    "print(model.intercept_)\n",
    "#Equation is: y' = 2.12*x1 + 1.69*x2 -1.51"
   ]
  },
  {
   "cell_type": "code",
   "execution_count": 34,
   "metadata": {},
   "outputs": [
    {
     "name": "stdout",
     "output_type": "stream",
     "text": [
      "[[15 20]\n",
      " [ 5  2]]\n",
      "[[65.46529874]\n",
      " [12.934017  ]]\n"
     ]
    }
   ],
   "source": [
    "#Prediction with the model\n",
    "# 15 hours/week, 20 classes\n",
    "# 5 hours/week, 2 classes\n",
    "x_for_predict = np.array([[15, 20], [5, 2]])\n",
    "print(x_for_predict)\n",
    "print(model.predict(x_for_predict))"
   ]
  },
  {
   "cell_type": "code",
   "execution_count": 40,
   "metadata": {},
   "outputs": [
    {
     "name": "stdout",
     "output_type": "stream",
     "text": [
      "[65.46529874]\n"
     ]
    }
   ],
   "source": [
    "#use the model for prediction\n",
    "print(model.coef_[0][0] * 15 + model.coef_[0][1] * 20 + model.intercept_)\n"
   ]
  },
  {
   "cell_type": "code",
   "execution_count": null,
   "metadata": {},
   "outputs": [],
   "source": [
    "#YOUR TURN (15 minutes)\n",
    "#Here is your data\n",
    "#x1 = [7, 0, 3, 3, 5]\n",
    "#x2 = [2, 0, 7, 3, 9]\n",
    "#y = [44, 0, 25, 21, 39]\n",
    "#Make the linear regression between these datas.\n",
    "#What are the weights and the bias? Write the final equation of your model.\n",
    "#What would be the prediction for x1 = 5 and x2 = 6"
   ]
  },
  {
   "cell_type": "markdown",
   "metadata": {},
   "source": [
    "## The polynomial regression"
   ]
  },
  {
   "cell_type": "code",
   "execution_count": 41,
   "metadata": {},
   "outputs": [],
   "source": [
    "#Remember: A polynomial regression of degree two is just \n",
    "#a linear regression with two features where the second feature\n",
    "#is the square of the first one"
   ]
  },
  {
   "cell_type": "code",
   "execution_count": 42,
   "metadata": {},
   "outputs": [],
   "source": [
    "#Our data: the number of goats\n",
    "alt = [3.25, 0.816, 4.376, 1.314, 3.982, 2.957, 2.482, 3.7]\n",
    "n_goats = [21, 22, 13, 25, 17, 23, 23, 27]"
   ]
  },
  {
   "cell_type": "code",
   "execution_count": 46,
   "metadata": {
    "scrolled": false
   },
   "outputs": [
    {
     "name": "stdout",
     "output_type": "stream",
     "text": [
      "[[ 3.25     10.5625  ]\n",
      " [ 0.816     0.665856]\n",
      " [ 4.376    19.149376]\n",
      " [ 1.314     1.726596]\n",
      " [ 3.982    15.856324]\n",
      " [ 2.957     8.743849]\n",
      " [ 2.482     6.160324]\n",
      " [ 3.7      13.69    ]]\n"
     ]
    }
   ],
   "source": [
    "#The simplest way to do it: the square method\n",
    "alt_sq = []\n",
    "for i in alt:\n",
    "    alt_sq.append(i**2)\n",
    "# print(alt_sq)\n",
    "\n",
    "x1 = np.array(alt).reshape(-1,1)\n",
    "x2 = np.array(alt_sq).reshape(-1,1)\n",
    "y = np.array(n_goats).reshape(-1,1)\n",
    "x = np.hstack([x1, x2])\n",
    "print(x)"
   ]
  },
  {
   "cell_type": "code",
   "execution_count": 47,
   "metadata": {},
   "outputs": [],
   "source": [
    "#Create the model and train it\n",
    "model = skmod.LinearRegression()\n",
    "model = model.fit(x, y)"
   ]
  },
  {
   "cell_type": "code",
   "execution_count": 48,
   "metadata": {},
   "outputs": [
    {
     "name": "stdout",
     "output_type": "stream",
     "text": [
      "[[ 8.23020929 -1.96652729]]\n",
      "[16.6580818]\n"
     ]
    }
   ],
   "source": [
    "#show the coefficients\n",
    "print(model.coef_)\n",
    "print(model.intercept_)\n",
    "#Equation: \n",
    "#with x1 and x2: y' = 8.23*x1 - 1.967*x2 + 16.66\n",
    "#with x1 and x1^2: y' = 8.23*x1 - 1.967*x1**2 + 16.66"
   ]
  },
  {
   "cell_type": "code",
   "execution_count": 60,
   "metadata": {},
   "outputs": [
    {
     "data": {
      "text/plain": [
       "[<matplotlib.lines.Line2D at 0x1d88f87d8b0>]"
      ]
     },
     "execution_count": 60,
     "metadata": {},
     "output_type": "execute_result"
    },
    {
     "data": {
      "image/png": "[encoded data removed]",
      "text/plain": [
       "<Figure size 432x288 with 1 Axes>"
      ]
     },
     "metadata": {
      "needs_background": "light"
     },
     "output_type": "display_data"
    }
   ],
   "source": [
    "#Draw your datas and the model\n",
    "plt.scatter(x1, y) #draw the observation\n",
    "x_predict = np.arange(0,5,0.1) #range function with integer only\n",
    "x_predict = x_predict.reshape(-1,1) #to transform it into column\n",
    "x_predict_sq = x_predict*x_predict #the second feature = x1**2\n",
    "x_predict_final = np.hstack([x_predict, x_predict_sq]) #my 2 columns matrix\n",
    "y_predict = model.predict(x_predict_final) #prediction from the x\n",
    "# print(y_predict)\n",
    "plt.plot(x_predict, y_predict) #draw the graph with w (not x2)\n",
    "\n",
    "plt.plot([0,5], [-1.829*0+ 26.60, -1.829*5+ 26.60])"
   ]
  },
  {
   "cell_type": "code",
   "execution_count": null,
   "metadata": {},
   "outputs": [],
   "source": [
    "#YOUR TURN (15 minutes)\n",
    "#Find the link between these values (use linear and polynomial regression)\n",
    "#\n",
    "# feature  Label\n",
    "# 13       505\n",
    "# 3        35\n",
    "# 17       836\n",
    "# 0        -6\n",
    "# 2         16\n",
    "#The equation used is 2,56*x^2 + x*6 -6, \n",
    "#Can you find it with your regression?"
   ]
  },
  {
   "cell_type": "code",
   "execution_count": 71,
   "metadata": {},
   "outputs": [
    {
     "name": "stdout",
     "output_type": "stream",
     "text": [
      "[[6.05253902 2.55824485]]\n",
      "[-6.15443798]\n",
      "0.9999998602607547\n"
     ]
    }
   ],
   "source": [
    "arr_x = np.array([13, 3, 17, 0, 2]).reshape(-1,1)\n",
    "arr_x2 = arr_x*arr_x\n",
    "x = np.hstack([arr_x, arr_x2])\n",
    "y = np.array([505, 35, 836, -6, 16]).reshape(-1,1)\n",
    "# print(x)\n",
    "# print(y)\n",
    "model = skmod.LinearRegression().fit(x, y)\n",
    "print(model.coef_)\n",
    "print(model.intercept_)\n",
    "print(model.score(x,y))"
   ]
  },
  {
   "cell_type": "code",
   "execution_count": 67,
   "metadata": {},
   "outputs": [
    {
     "name": "stdout",
     "output_type": "stream",
     "text": [
      "[[49.61061947]]\n",
      "[-70.07433628]\n"
     ]
    }
   ],
   "source": [
    "#Let's show the difference with a linear regression - make the linear model\n",
    "\n",
    "model = skmod.LinearRegression().fit(arr_x, y)\n",
    "print(model.coef_)\n",
    "print(model.intercept_)\n"
   ]
  },
  {
   "cell_type": "code",
   "execution_count": 69,
   "metadata": {
    "scrolled": false
   },
   "outputs": [
    {
     "data": {
      "text/plain": [
       "<matplotlib.collections.PathCollection at 0x1d88f94f6a0>"
      ]
     },
     "execution_count": 69,
     "metadata": {},
     "output_type": "execute_result"
    },
    {
     "data": {
      "image/png": "[encoded data removed]",
      "text/plain": [
       "<Figure size 432x288 with 1 Axes>"
      ]
     },
     "metadata": {
      "needs_background": "light"
     },
     "output_type": "display_data"
    }
   ],
   "source": [
    "#draw the datas, the linear and polynomial model on the same graph\n",
    "plt.scatter(arr_x, y)"
   ]
  },
  {
   "cell_type": "code",
   "execution_count": null,
   "metadata": {},
   "outputs": [],
   "source": []
  },
  {
   "cell_type": "code",
   "execution_count": null,
   "metadata": {},
   "outputs": [],
   "source": []
  }
 ],
 "metadata": {
  "kernelspec": {
   "display_name": "Python 3",
   "language": "python",
   "name": "python3"
  },
  "language_info": {
   "codemirror_mode": {
    "name": "ipython",
    "version": 3
   },
   "file_extension": ".py",
   "mimetype": "text/x-python",
   "name": "python",
   "nbconvert_exporter": "python",
   "pygments_lexer": "ipython3",
   "version": "3.9.13 (tags/v3.9.13:6de2ca5, May 17 2022, 16:36:42) [MSC v.1929 64 bit (AMD64)]"
  },
  "vscode": {
   "interpreter": {
    "hash": "36b8e176778bd0c41ffff8963b9ba4d11bbd92e308328656ec1e6b068028e764"
   }
  }
 },
 "nbformat": 4,
 "nbformat_minor": 4
}
