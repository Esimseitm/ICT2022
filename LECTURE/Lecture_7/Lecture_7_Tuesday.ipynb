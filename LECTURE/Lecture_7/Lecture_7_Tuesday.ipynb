{
 "cells": [
  {
   "cell_type": "markdown",
   "metadata": {},
   "source": [
    "# Correction of practice 6"
   ]
  },
  {
   "cell_type": "code",
   "execution_count": null,
   "metadata": {},
   "outputs": [],
   "source": [
    "# import packages\n",
    "import requests\n",
    "from bs4 import BeautifulSoup"
   ]
  },
  {
   "cell_type": "code",
   "execution_count": null,
   "metadata": {},
   "outputs": [],
   "source": [
    "headers = {'user-agent' : 'Mozilla/5.0 (Windows NT 10.0; Win64; x64; rv:105.0) Gecko/20100101 Firefox/105.0'}\n",
    "resp = requests.get('https://news.google.com/search?q=apple', headers = headers)\n",
    "print(resp.content)"
   ]
  },
  {
   "cell_type": "code",
   "execution_count": null,
   "metadata": {
    "scrolled": true
   },
   "outputs": [],
   "source": [
    "soup = BeautifulSoup(resp.content)\n",
    "print(soup.prettify())"
   ]
  },
  {
   "cell_type": "code",
   "execution_count": null,
   "metadata": {},
   "outputs": [],
   "source": [
    "for i in soup.find_all('a', class_ = \"DY5T1d RZIKme\"):\n",
    "    print(i.text)"
   ]
  },
  {
   "cell_type": "code",
   "execution_count": null,
   "metadata": {
    "scrolled": true
   },
   "outputs": [],
   "source": [
    "for i in soup.find_all('a', class_ = \"DY5T1d RZIKme\"):\n",
    "    print(\"www.news.google.com\" + i['href'][1:])"
   ]
  },
  {
   "cell_type": "code",
   "execution_count": null,
   "metadata": {
    "scrolled": true
   },
   "outputs": [],
   "source": [
    "import datetime\n",
    "for i in soup.find_all('time', class_ = \"WW6dff uQIVzc Sksgp slhocf\"):\n",
    "    t = i['datetime']\n",
    "    t = datetime.datetime.strptime(t, '%Y-%m-%dT%H:%M:%SZ')\n",
    "    print(t)"
   ]
  },
  {
   "cell_type": "code",
   "execution_count": null,
   "metadata": {},
   "outputs": [],
   "source": [
    "url = \"http://www.news.google.com\" + soup.find('a', class_ = \"DY5T1d RZIKme\")['href'][1:]\n",
    "\n",
    "r = requests.get(url, headers= headers)\n",
    "s = BeautifulSoup(r.content)\n",
    "print(s.prettify())"
   ]
  },
  {
   "cell_type": "code",
   "execution_count": null,
   "metadata": {},
   "outputs": [],
   "source": [
    "print(s.find('a', jsname = \"tljFtd\").text)"
   ]
  },
  {
   "cell_type": "markdown",
   "metadata": {},
   "source": [
    "# Lecture 7 : Data cleaning"
   ]
  },
  {
   "cell_type": "code",
   "execution_count": null,
   "metadata": {},
   "outputs": [],
   "source": [
    "# import\n",
    "import pandas as pd\n",
    "import numpy as np"
   ]
  },
  {
   "cell_type": "code",
   "execution_count": null,
   "metadata": {
    "scrolled": true
   },
   "outputs": [],
   "source": [
    "# Read csv file into a pandas dataframe\n",
    "df = pd.read_csv(r\"D:\\KBTU\\2022-2023\\Python Course\\Course\\Lecture\\Lecture_7\\csv_to_clean.csv\")\n",
    "print(df)"
   ]
  },
  {
   "cell_type": "markdown",
   "metadata": {},
   "source": [
    "## Finding missing values"
   ]
  },
  {
   "cell_type": "code",
   "execution_count": null,
   "metadata": {
    "scrolled": true
   },
   "outputs": [],
   "source": [
    "#Find the standard missing values isnull function\n",
    "print(df.isnull().sum())"
   ]
  },
  {
   "cell_type": "code",
   "execution_count": null,
   "metadata": {},
   "outputs": [],
   "source": [
    "#Non standard missing values : na_values in the read_csv function\n",
    "#use of unique function to identify them\n",
    "a = ['na', '--']\n",
    "df = pd.read_csv(r\"D:\\KBTU\\2022-2023\\Python Course\\Course\\Lecture\\Lecture_7\\csv_to_clean.csv\",\n",
    "                na_values = a)\n",
    "print(df)"
   ]
  },
  {
   "cell_type": "code",
   "execution_count": null,
   "metadata": {
    "scrolled": true
   },
   "outputs": [],
   "source": [
    "#Unexpected format missing values : check if value can be int for example\n",
    "# print(df)\n",
    "for index, lines in df.iterrows():\n",
    "    try:\n",
    "        a = int(lines['OWN_OCCUPIED'])\n",
    "        print(a)\n",
    "        df.loc[index, 'OWN_OCCUPIED'] = np.nan\n",
    "    except:\n",
    "        pass\n",
    "print(df)"
   ]
  },
  {
   "cell_type": "code",
   "execution_count": null,
   "metadata": {
    "scrolled": false
   },
   "outputs": [],
   "source": [
    "#Check the sum of missing values\n",
    "print(df.isnull().sum().sum())"
   ]
  },
  {
   "cell_type": "code",
   "execution_count": null,
   "metadata": {},
   "outputs": [],
   "source": [
    "try:\n",
    "    prit('hi')\n",
    "except:\n",
    "    print('ho')"
   ]
  },
  {
   "cell_type": "code",
   "execution_count": null,
   "metadata": {},
   "outputs": [],
   "source": [
    "#YOUR TURN (15 minutes)\n",
    "#Find all missing values in the provided dataframe\n",
    "#Check all the null\n",
    "#Find the other types of missing values\n",
    "#There are '-', 'ERROR', wrong date, 'NaN', no data\n",
    "#and then break\n",
    "import datetime\n",
    "a = ['ERROR', '-']\n",
    "df = pd.read_csv(r\"D:\\KBTU\\2022-2023\\Python Course\\Course\\Lecture\\Lecture_7\\Apple_price_to_clean.csv\",\n",
    "                na_values = a)\n",
    "print(df)\n",
    "for index, lines in df.iterrows():\n",
    "    try:\n",
    "        a = datetime.datetime.strptime(lines['Date'], '%Y-%m-%d')\n",
    "    except:\n",
    "        print(lines['Date'])\n",
    "        df.loc[index, 'Date'] = np.nan\n",
    "print(df)"
   ]
  },
  {
   "cell_type": "markdown",
   "metadata": {},
   "source": [
    "## Replacing missing values"
   ]
  },
  {
   "cell_type": "code",
   "execution_count": null,
   "metadata": {
    "scrolled": false
   },
   "outputs": [],
   "source": [
    "#delete lines with dropna with subset and inplace aeguments\n",
    "\n",
    "df.dropna(inplace = True, subset = ['PID'])\n",
    "print(df)"
   ]
  },
  {
   "cell_type": "code",
   "execution_count": null,
   "metadata": {},
   "outputs": [],
   "source": [
    "# Location based replacement with the loc function\n",
    "df.loc[2, 'ST_NUM'] = 200\n",
    "print(df)"
   ]
  },
  {
   "cell_type": "code",
   "execution_count": null,
   "metadata": {},
   "outputs": [],
   "source": [
    "# Replace missing values with a number (fillna() function with inplace arg)\n",
    "df.fillna(100, inplace = True)\n",
    "print(df)"
   ]
  },
  {
   "cell_type": "code",
   "execution_count": null,
   "metadata": {},
   "outputs": [],
   "source": [
    "#Replacing the missing values with a median \n",
    "#(calculate median and then use the replace with a number)\n",
    "print(df['Volume'].mean())\n",
    "df['NUM_BEDROOMS'].fillna(df['NUM_BEDROOMS'].mean(), inplace = True)\n",
    "print(df)"
   ]
  },
  {
   "cell_type": "code",
   "execution_count": null,
   "metadata": {},
   "outputs": [],
   "source": [
    "#Replacing the values by the one before or after : df.fillna(method='bfill')\n",
    "print(df)\n",
    "df.fillna(method = 'bfill', inplace = True)\n",
    "print(df)"
   ]
  },
  {
   "cell_type": "markdown",
   "metadata": {},
   "source": []
  },
  {
   "cell_type": "code",
   "execution_count": null,
   "metadata": {},
   "outputs": [],
   "source": [
    "#YOUR TURN (5 minutes)\n",
    "#replace all the missing values in the previous dataframe with the frontfilling method \n",
    "#put 0 for the first ones"
   ]
  },
  {
   "cell_type": "markdown",
   "metadata": {},
   "source": [
    "## Removing useless data"
   ]
  },
  {
   "cell_type": "code",
   "execution_count": null,
   "metadata": {},
   "outputs": [],
   "source": [
    "#Use the drop() function with inplace and axis arg\n",
    "#axis 0 => lines\n",
    "#axis 1 => columns\n",
    "df.drop(['ST_NUM'], axis = 0, inplace = True)\n",
    "print(df)"
   ]
  },
  {
   "cell_type": "code",
   "execution_count": null,
   "metadata": {},
   "outputs": [],
   "source": [
    "#Use the drop duplicates to remove useless lines\n",
    "df.drop_duplicates(inplace = True)\n",
    "print(df)"
   ]
  },
  {
   "cell_type": "code",
   "execution_count": null,
   "metadata": {},
   "outputs": [],
   "source": [
    "#YOUR TURN 5 minutes\n",
    "#Drop all duplicates in your df\n",
    "#11 duplicated rows"
   ]
  },
  {
   "cell_type": "markdown",
   "metadata": {},
   "source": [
    "## Outliers"
   ]
  },
  {
   "cell_type": "code",
   "execution_count": null,
   "metadata": {},
   "outputs": [],
   "source": [
    "#Read csv with clean data\n",
    "a = ['na', '--']\n",
    "df = pd.read_csv(r\"D:\\KBTU\\2022-2023\\Python Course\\Course\\Lecture\\Lecture_7\\csv_to_clean.csv\",\n",
    "                na_values = a)\n",
    "print(df)"
   ]
  },
  {
   "cell_type": "code",
   "execution_count": null,
   "metadata": {
    "scrolled": true
   },
   "outputs": [],
   "source": [
    "#With the describe method\n",
    "print(df.describe())"
   ]
  },
  {
   "cell_type": "code",
   "execution_count": null,
   "metadata": {
    "scrolled": true
   },
   "outputs": [],
   "source": [
    "# With the plot method\n",
    "df.plot(y = 'SQ_M')"
   ]
  },
  {
   "cell_type": "code",
   "execution_count": null,
   "metadata": {},
   "outputs": [],
   "source": [
    "#SELECT the datas\n",
    "df = df[df['SQ_M'] < 10000]\n",
    "df.plot(y = 'SQ_M')"
   ]
  },
  {
   "cell_type": "code",
   "execution_count": null,
   "metadata": {},
   "outputs": [],
   "source": [
    "#YOUR TURN\n",
    "#Find the outliers in your dataset and remove them"
   ]
  }
 ],
 "metadata": {
  "kernelspec": {
   "display_name": "Python 3",
   "language": "python",
   "name": "python3"
  },
  "language_info": {
   "codemirror_mode": {
    "name": "ipython",
    "version": 3
   },
   "file_extension": ".py",
   "mimetype": "text/x-python",
   "name": "python",
   "nbconvert_exporter": "python",
   "pygments_lexer": "ipython3",
   "version": "3.9.13 (tags/v3.9.13:6de2ca5, May 17 2022, 16:36:42) [MSC v.1929 64 bit (AMD64)]"
  },
  "vscode": {
   "interpreter": {
    "hash": "36b8e176778bd0c41ffff8963b9ba4d11bbd92e308328656ec1e6b068028e764"
   }
  }
 },
 "nbformat": 4,
 "nbformat_minor": 4
}
