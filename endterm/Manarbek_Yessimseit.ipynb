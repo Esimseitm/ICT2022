{
 "cells": [
  {
   "cell_type": "code",
   "execution_count": null,
   "metadata": {},
   "outputs": [],
   "source": [
    "'''\n",
    "-------------------------ENDTERM EXAM-----------------\n",
    "In the following file, do not delete anything (comments, code, ...). Just add you code in every part (one per exercise).\n",
    "Use my variable for input (if there is any), use my printing for output (if there is any).\n",
    "You can upload your code to codepost.io to check the tests. A sucess in one test doesn't always mean than your exercise is correct,\n",
    "a fail doesn't always mean that your exercise is wrong. I will check all codes.\n",
    "At the end of exam, you should upload the last version of your code to codepost.io or to the online folder on Teams.\n",
    "The only authorized packages are:\n",
    "- pandas\n",
    "- pyarrow\n",
    "- fastparquet\n",
    "- numpy\n",
    "- sklearn\n",
    "- matplotlib\n",
    "- datetime\n",
    "\n",
    "'''"
   ]
  },
  {
   "cell_type": "code",
   "execution_count": null,
   "metadata": {},
   "outputs": [],
   "source": [
    "# ----------------------EXERCISE 1 - Data Cleaning--------------------------------------\n",
    "# Instructions:\n",
    "# Open the dataframe (Ex_1_price_to_clean_v15.parquet) with the read_parquet() function of the pandas package.\n",
    "# If you upload your code to codepost use the the following path in the read_parquet() function : \"Ex_1_price_to_clean_v15.parquet\".\n",
    "# Remove the duplicated line(s) from the dataframe, reset the indexes, sort it by the date column and print it.\n",
    "# Do not change the format of columns (for example, if one column has int values, don't change it to float)\n",
    "\n",
    "import pandas as pd\n",
    "import datetime\n",
    "import matplotlib.pyplot as plt\n",
    "import seaborn as sns\n",
    "# df_origin = pd.read_parquet(r\"C:\\Users\\Manarbek\\Desktop\\endtermict\\Ex_1_price_to_clean_v15.parquet\")\n",
    "# print(df_origin)\n",
    "df_origin = pd.read_parquet(r\"Ex_1_price_to_clean_v15.parquet\")\n",
    "for index, lines in df_origin.iterrows():\n",
    "    try:\n",
    "        x = float(lines['Low'])\n",
    "    except:\n",
    "        df_origin.loc[index, 'Low'] = np.nan\n",
    "\n",
    "for index, lines in df_origin.iterrows():\n",
    "    df_origin['Adj Close'] = df_origin['Adj Close'].astype(float)\n",
    "    df_origin['Volume'] = df_origin['Volume'].astype(float)\n",
    "    df_origin['Open'] = df_origin['Open'].astype(float)\n",
    "    df_origin['High'] = df_origin['High'].astype(float)\n",
    "    df_origin['Low'] = df_origin['Low'].astype(float)\n",
    "    df_origin['Close'] = df_origin['Close'].astype(float)\n",
    "\n",
    "df_origin.dropna(inplace = True)\n",
    "df_origin = df_origin.sort_values(by=['Date'])\n",
    "df_origin.reset_index(drop = True, inplace = True)\n",
    "df = df_origin\n",
    "\n",
    "\n",
    "\n",
    "\n",
    "\n",
    "\n",
    "\n",
    "\n",
    "# Here is the command to print the final data (where predictions is all the predictions of your model.)\n",
    "print(df)\n",
    "# ---------------------End of EXERCISE 1 --------------------------------------\n"
   ]
  },
  {
   "cell_type": "code",
   "execution_count": null,
   "metadata": {},
   "outputs": [],
   "source": [
    "# ----------------------EXERCISE 4 - Machine Learning II--------------------------------------\n",
    "# Instructions:\n",
    "# You have a model (linear regression) trained with two features and a label : feature1, feature2 and label.\n",
    "# What is the prediction of this model for three samples : \n",
    "#\t- feature 1 : 1 and feature 2 : 151\n",
    "#\t- feature 1 : -9 and feature 2 : 178\n",
    "#\t- feature 1 : -10 and feature 2 : 191\n",
    "# You can find the wanted predictions in the file named Ex_4_predictions_V15.txt\n",
    "\n",
    "import sklearn.linear_model as skmod\n",
    "import numpy as np\n",
    "feature1 = np.array([-5, 5, -9, 9, 1, 5, 3, 3, 7, -1, -3, -3, 4, 6, 3, -5, -6, -2, 0, 2])\n",
    "feature2 = np.array([143, 198, 146, 194, 169, 141, 199, 180, 199, 104, 126, 144, 125, 180, 168, 198, 175, 191, 182, 190])\n",
    "label = np.array([16.0, -16.0, 21.0, -40.0, -2.0, -19.0, -11.0, -8.0, -22.0, 5.0, 13.0, 16.0, -8.0, -25.0, -6.0, 15.0, 14.0, 6.0, 3.0, -5.0])\n",
    "model = skmod.LinearRegression().fit(np.hstack([feature1.reshape(-1,1), feature2.reshape(-1,1)]), label.reshape(-1,1))\n",
    "x_predict = np.array([[1, 151], [-9, 178], [-10,191]])\n",
    "predictions = model.predict(x_predict)\n",
    "\t\n",
    "\n",
    "\n",
    "\n",
    "\n",
    "\n",
    "# Here is the command to print the final data (where predictions is all the predictions of your model.)\n",
    "print(predictions)\n",
    "# ----------------------End of EXERCISE 4 --------------------------------------\n"
   ]
  }
 ],
 "metadata": {
  "kernelspec": {
   "display_name": "Python 3",
   "language": "python",
   "name": "python3"
  },
  "language_info": {
   "codemirror_mode": {
    "name": "ipython",
    "version": 3
   },
   "file_extension": ".py",
   "mimetype": "text/x-python",
   "name": "python",
   "nbconvert_exporter": "python",
   "pygments_lexer": "ipython3",
   "version": "3.9.13 (tags/v3.9.13:6de2ca5, May 17 2022, 16:36:42) [MSC v.1929 64 bit (AMD64)]"
  },
  "vscode": {
   "interpreter": {
    "hash": "36b8e176778bd0c41ffff8963b9ba4d11bbd92e308328656ec1e6b068028e764"
   }
  }
 },
 "nbformat": 4,
 "nbformat_minor": 4
}
