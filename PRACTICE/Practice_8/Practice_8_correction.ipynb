{
 "cells": [
  {
   "cell_type": "markdown",
   "metadata": {},
   "source": [
    "# Practice 8: data cleaning"
   ]
  },
  {
   "cell_type": "code",
   "execution_count": 10,
   "metadata": {},
   "outputs": [],
   "source": [
    "import pandas as pd\n",
    "import numpy as np"
   ]
  },
  {
   "cell_type": "markdown",
   "metadata": {},
   "source": [
    "# Step 1"
   ]
  },
  {
   "cell_type": "code",
   "execution_count": 2,
   "metadata": {},
   "outputs": [
    {
     "name": "stdout",
     "output_type": "stream",
     "text": [
      "               Date  Open   High   Low  Close  Adj Close   Volume      Name\n",
      "0        2008-01-29  9.50   9.99  8.57   8.75   0.702589  1489000      AACG\n",
      "1        2008-01-30  8.75   9.15  8.30   8.50   0.682516   219000      AACG\n",
      "2        2008-01-31  8.49  10.30  8.49   9.55   0.766826   182300      AACG\n",
      "3        2008-02-01  9.93   9.94  9.50   9.51   0.763614    28200      AACG\n",
      "4        2008-02-04  9.50   9.71  9.50   9.50   0.762811     8300      AACG\n",
      "...             ...   ...    ...   ...    ...        ...      ...       ...\n",
      "27247611 2022-08-24  9.54   9.54  7.75   9.00   9.000000   125933  ZWIPE.OL\n",
      "27247612 2022-08-25  8.79   9.99  8.03   9.34   9.340000   159549  ZWIPE.OL\n",
      "27247613 2022-08-26  8.95   9.29  8.00   8.30   8.300000    17487  ZWIPE.OL\n",
      "27247614 2022-08-29  8.12   8.61  7.86   7.98   7.980000    58661  ZWIPE.OL\n",
      "27247615 2022-08-30  7.70   8.52  7.60   8.33   8.330000     7684  ZWIPE.OL\n",
      "\n",
      "[27247616 rows x 8 columns]\n"
     ]
    }
   ],
   "source": [
    "#Load the whole dataframe and print it\n",
    "df = pd.read_parquet(r\"D:\\KBTU\\2022-2023\\Python Course\\Course\\Pratices\\Practice_8\\usb_file\\df_final_US_EUR.parquet\")\n",
    "print(df)"
   ]
  },
  {
   "cell_type": "code",
   "execution_count": 7,
   "metadata": {},
   "outputs": [
    {
     "name": "stdout",
     "output_type": "stream",
     "text": [
      "           Date        Open        High         Low       Close   Adj Close  \\\n",
      "0    2004-08-19    2.502503    2.604104    2.401401    2.511011    2.511011   \n",
      "1    2004-08-20    2.527778    2.729730    2.515015    2.710460    2.710460   \n",
      "2    2004-08-23    2.771522    2.839840    2.728979    2.737738    2.737738   \n",
      "3    2004-08-24    2.783784    2.792793    2.591842    2.624374    2.624374   \n",
      "4    2004-08-25    2.626627    2.702703    2.599600    2.652653    2.652653   \n",
      "...         ...         ...         ...         ...         ...         ...   \n",
      "4535 2022-08-24  113.500000  114.779999  112.870003  113.690002  113.690002   \n",
      "4536 2022-08-25  114.239998  116.720001  114.110001  116.650002  116.650002   \n",
      "4537 2022-08-26  114.720001  115.120003  110.190002  110.339996  110.339996   \n",
      "4538 2022-08-29  109.989998  110.949997  108.800003  109.419998  109.419998   \n",
      "4539 2022-08-30  110.169998  110.500000  107.800003  108.940002  108.940002   \n",
      "\n",
      "         Volume   Name  \n",
      "0     893181924  GOOGL  \n",
      "1     456686856  GOOGL  \n",
      "2     365122512  GOOGL  \n",
      "3     304946748  GOOGL  \n",
      "4     183772044  GOOGL  \n",
      "...         ...    ...  \n",
      "4535   17734600  GOOGL  \n",
      "4536   16956800  GOOGL  \n",
      "4537   37245700  GOOGL  \n",
      "4538   21191200  GOOGL  \n",
      "4539   27513300  GOOGL  \n",
      "\n",
      "[4540 rows x 8 columns]\n"
     ]
    }
   ],
   "source": [
    "#Select one company\n",
    "df_sel = df[df['Name'] == 'GOOGL'].reset_index(drop = True)\n",
    "print(df_sel)"
   ]
  },
  {
   "cell_type": "markdown",
   "metadata": {},
   "source": [
    "# Step 2"
   ]
  },
  {
   "cell_type": "code",
   "execution_count": 11,
   "metadata": {},
   "outputs": [
    {
     "name": "stdout",
     "output_type": "stream",
     "text": [
      "Open\n",
      "High\n",
      "Low\n",
      "Close\n",
      "Adj Close\n",
      "           Date        Open        High         Low       Close   Adj Close  \\\n",
      "0    2004-08-19    2.502503    2.604104    2.401401    2.511011    2.511011   \n",
      "1    2004-08-20    2.527778    2.729730    2.515015    2.710460    2.710460   \n",
      "2    2004-08-23    2.771522    2.839840    2.728979    2.737738    2.737738   \n",
      "3    2004-08-24    2.783784    2.792793    2.591842    2.624374    2.624374   \n",
      "4    2004-08-25    2.626627    2.702703    2.599600    2.652653    2.652653   \n",
      "...         ...         ...         ...         ...         ...         ...   \n",
      "4535 2022-08-24  113.500000  114.779999  112.870003  113.690002  113.690002   \n",
      "4536 2022-08-25  114.239998  116.720001  114.110001  116.650002  116.650002   \n",
      "4537 2022-08-26  114.720001  115.120003  110.190002  110.339996  110.339996   \n",
      "4538 2022-08-29  109.989998  110.949997  108.800003  109.419998  109.419998   \n",
      "4539 2022-08-30  110.169998  110.500000  107.800003  108.940002  108.940002   \n",
      "\n",
      "         Volume   Name  Perc_change_Open  Perc_change_High  Perc_change_Low  \\\n",
      "0     893181924  GOOGL               NaN               NaN              NaN   \n",
      "1     456686856  GOOGL          0.999890          4.602135         4.517422   \n",
      "2     365122512  GOOGL          8.794595          3.877333         7.840449   \n",
      "3     304946748  GOOGL          0.440475         -1.684582        -5.291109   \n",
      "4     183772044  GOOGL         -5.983223         -3.333331         0.298436   \n",
      "...         ...    ...               ...               ...              ...   \n",
      "4535   17734600  GOOGL          0.017618         -0.200386        -0.496144   \n",
      "4536   16956800  GOOGL          0.647757          1.662099         1.086669   \n",
      "4537   37245700  GOOGL          0.418413         -1.389853        -3.557490   \n",
      "4538   21191200  GOOGL         -4.300394         -3.758455        -1.277573   \n",
      "4539   27513300  GOOGL          0.163384         -0.407237        -0.927644   \n",
      "\n",
      "      Perc_change_Close  Perc_change_Adj Close  \n",
      "0                   NaN                    NaN  \n",
      "1              7.358495               7.358493  \n",
      "2              0.996368               0.996370  \n",
      "3             -4.319658              -4.319659  \n",
      "4              1.066067               1.066065  \n",
      "...                 ...                    ...  \n",
      "4535          -0.149528              -0.149529  \n",
      "4536           2.537505               2.537505  \n",
      "4537          -5.718693              -5.718693  \n",
      "4538          -0.840795              -0.840795  \n",
      "4539          -0.440606              -0.440606  \n",
      "\n",
      "[4540 rows x 13 columns]\n"
     ]
    }
   ],
   "source": [
    "\n",
    "for k in df_sel.columns[1:6]:\n",
    "    print(k)\n",
    "    perc = []\n",
    "    for index, line in df_sel.iterrows():\n",
    "        if index == 0:\n",
    "            perc.append(np.nan)\n",
    "        else:\n",
    "            perc.append((line[k] - df_sel.loc[index-1, k])/line[k] *100)\n",
    "    df_sel['Perc_change_' +k] = perc\n",
    "print(df_sel)"
   ]
  },
  {
   "cell_type": "markdown",
   "metadata": {},
   "source": []
  }
 ],
 "metadata": {
  "kernelspec": {
   "display_name": "Python 3",
   "language": "python",
   "name": "python3"
  },
  "language_info": {
   "codemirror_mode": {
    "name": "ipython",
    "version": 3
   },
   "file_extension": ".py",
   "mimetype": "text/x-python",
   "name": "python",
   "nbconvert_exporter": "python",
   "pygments_lexer": "ipython3",
   "version": "3.8.3"
  }
 },
 "nbformat": 4,
 "nbformat_minor": 4
}
